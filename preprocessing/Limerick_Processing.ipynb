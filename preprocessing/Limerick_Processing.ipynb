{
  "cells": [
    {
      "cell_type": "markdown",
      "metadata": {
        "id": "-Juru-EmjMkQ"
      },
      "source": [
        "## Importing Libraries"
      ]
    },
    {
      "cell_type": "code",
      "execution_count": null,
      "metadata": {
        "id": "CETvhqW7dY-j"
      },
      "outputs": [],
      "source": [
        "import numpy as np\n",
        "import csv\n",
        "import os \n",
        "import sys\n",
        "import pdb\n",
        "import string"
      ]
    },
    {
      "cell_type": "code",
      "execution_count": null,
      "metadata": {
        "id": "pRC_tOQ2doKi"
      },
      "outputs": [],
      "source": [
        "'''\n",
        "Keeps symbols and punctuation\n",
        "'''\n",
        "filename = \"/content/limericks_clean.csv\"\n",
        "rhyming_pairs= []\n",
        "with open(filename) as csvfile:\n",
        "    limerics = csv.reader(csvfile)\n",
        "    filename = \"limericks.txt\"\n",
        "    with open(filename, 'w') as txtfile:\n",
        "        for line in limerics:\n",
        "            txtfile.write(line[0]+'\\r\\n')"
      ]
    },
    {
      "cell_type": "code",
      "execution_count": null,
      "metadata": {
        "colab": {
          "base_uri": "https://localhost:8080/"
        },
        "id": "HiQphlEy-WXR",
        "outputId": "d1becda5-8d82-49c8-ec05-61013c6d1ee2"
      },
      "outputs": [
        {
          "name": "stdout",
          "output_type": "stream",
          "text": [
            "Mounted at /content/drive\n"
          ]
        }
      ],
      "source": [
        "from google.colab import drive\n",
        "drive.mount('/content/drive')"
      ]
    },
    {
      "cell_type": "code",
      "execution_count": null,
      "metadata": {
        "colab": {
          "base_uri": "https://localhost:8080/"
        },
        "id": "er_Ry9yLi67U",
        "outputId": "b6653cf6-68fc-4b16-d84d-a841787a1ff9"
      },
      "outputs": [
        {
          "name": "stdout",
          "output_type": "stream",
          "text": [
            "Collecting num2words\n",
            "  Downloading num2words-0.5.10-py3-none-any.whl (101 kB)\n",
            "\u001b[?25l\r\u001b[K     |███▎                            | 10 kB 14.0 MB/s eta 0:00:01\r\u001b[K     |██████▌                         | 20 kB 17.8 MB/s eta 0:00:01\r\u001b[K     |█████████▊                      | 30 kB 21.4 MB/s eta 0:00:01\r\u001b[K     |█████████████                   | 40 kB 24.9 MB/s eta 0:00:01\r\u001b[K     |████████████████▏               | 51 kB 19.9 MB/s eta 0:00:01\r\u001b[K     |███████████████████▍            | 61 kB 21.3 MB/s eta 0:00:01\r\u001b[K     |██████████████████████▋         | 71 kB 22.7 MB/s eta 0:00:01\r\u001b[K     |█████████████████████████▉      | 81 kB 23.5 MB/s eta 0:00:01\r\u001b[K     |█████████████████████████████   | 92 kB 25.2 MB/s eta 0:00:01\r\u001b[K     |████████████████████████████████| 101 kB 6.3 MB/s \n",
            "\u001b[?25hRequirement already satisfied: docopt>=0.6.2 in /usr/local/lib/python3.7/dist-packages (from num2words) (0.6.2)\n",
            "Installing collected packages: num2words\n",
            "Successfully installed num2words-0.5.10\n"
          ]
        }
      ],
      "source": [
        "!pip install num2words"
      ]
    },
    {
      "cell_type": "code",
      "execution_count": null,
      "metadata": {
        "colab": {
          "base_uri": "https://localhost:8080/",
          "height": 36
        },
        "id": "Cd6Jf6ftjC6L",
        "outputId": "cf71480f-7bf7-49cc-fd75-eff6f6f38a62"
      },
      "outputs": [
        {
          "data": {
            "application/vnd.google.colaboratory.intrinsic+json": {
              "type": "string"
            },
            "text/plain": [
              "'second'"
            ]
          },
          "execution_count": 5,
          "metadata": {},
          "output_type": "execute_result"
        }
      ],
      "source": [
        "from num2words import num2words\n",
        "s = \"hello 21\"\n",
        "ss = s.split(' ')\n",
        "num2words(2, 12)"
      ]
    },
    {
      "cell_type": "markdown",
      "metadata": {
        "id": "DvAmAvkOjWAM"
      },
      "source": [
        "## Limerick preprocessing"
      ]
    },
    {
      "cell_type": "code",
      "execution_count": null,
      "metadata": {
        "id": "uUS_nLQmjFml"
      },
      "outputs": [],
      "source": [
        "'''\n",
        "Removes  symbols and punctuation\n",
        "'''\n",
        "import re\n",
        "\n",
        "filename = \"/content/limericks.csv\"\n",
        "rhyming_pairs= []\n",
        "with open(filename) as csvfile:\n",
        "    limerics = csv.reader(csvfile)\n",
        "    filename = \"limericks_final.csv\"\n",
        "    count = 0\n",
        "    ind = 0\n",
        "    with open(filename, 'w') as txtfile:\n",
        "        for line in limerics:\n",
        "\n",
        "            # Remove any limericks with more than 5 lines\n",
        "            ind +=1\n",
        "            check = line[0].split('\\n')\n",
        "            check.remove(\"\")\n",
        "            if len(check) != 5:\n",
        "                print(check)\n",
        "                count += 1\n",
        "                print(count, ind)\n",
        "\n",
        "                continue \n",
        "        \n",
        "            # Remove all limericks with digits\n",
        "            nums = re.findall(r'\\d+', line[0])\n",
        "            words = []\n",
        "            if nums != []:\n",
        "                print('removed number limericks', ind)\n",
        "                continue            \n",
        "\n",
        "            whitelist = string.ascii_letters + string.digits + ' ' + '\\n' + '\\r'\n",
        "            new_s = ''.join(c.lower() for c in line[0] if c in whitelist)\n",
        "            txtfile.write(new_s+'\\r\\n')"
      ]
    },
    {
      "cell_type": "markdown",
      "metadata": {
        "id": "ziz_xowskaCC"
      },
      "source": [
        "## Adding delimeter at the end of a limerick"
      ]
    },
    {
      "cell_type": "code",
      "execution_count": null,
      "metadata": {
        "id": "DoDm-e57jWKi"
      },
      "outputs": [],
      "source": [
        "filename = \"/content/limericks.csv\"\n",
        "limericks_with_delim = []\n",
        "with open(filename) as csvfile:\n",
        "    limerics = csv.reader(csvfile)\n",
        "    for row in limerics:\n",
        "        lines = row[0].split(\"\\n\")\n",
        "\n",
        "        clean_lines = []\n",
        "        for line in lines:\n",
        "            if '.' in line or ',' in line:\n",
        "                line = line.replace('.', '')\n",
        "                line = line.replace(',', '')\n",
        "            clean_lines.append(line)\n",
        "        \n",
        "        if len(clean_lines) >5:\n",
        "            limericks_with_delim += [[clean_lines[i]] for i in range(5)]\n",
        "            limericks_with_delim += [[\"\\r\\n\"]]"
      ]
    },
    {
      "cell_type": "code",
      "execution_count": null,
      "metadata": {
        "id": "82RzQaD4j5EX"
      },
      "outputs": [],
      "source": [
        "filename = \"limericks_with_delim.txt\"\n",
        "with open(filename, 'w') as txtfile:\n",
        "    for line in limericks_with_delim:\n",
        "        txtfile.write(line[0]+'\\n')"
      ]
    },
    {
      "cell_type": "code",
      "execution_count": null,
      "metadata": {
        "id": "HLmXqRhmAeLU"
      },
      "outputs": [],
      "source": [
        "def add_chars(stri):\n",
        "  stri=stri.split('\\n')\n",
        "\n",
        "  stri[0],stri[1],stri[4]=stri[0]+'@',stri[1]+'@',stri[4]+'@'\n",
        "  stri[2],stri[3]=stri[2]+'#',stri[3]+'#'\n",
        "\n",
        "  stri=\"\\n\".join(stri)\n",
        "  return stri"
      ]
    },
    {
      "cell_type": "markdown",
      "metadata": {
        "id": "T9VNxg1AjkoT"
      },
      "source": [
        "## Converting preprocessed Limericks to dataframe"
      ]
    },
    {
      "cell_type": "code",
      "execution_count": null,
      "metadata": {
        "id": "hwKsbGehkQfD"
      },
      "outputs": [],
      "source": [
        "import pandas as pd\n",
        "\n",
        "df=pd.read_csv(\"/content/drive/MyDrive/IDL/Project/data/limericks_clean.csv\",index_col=0)\n",
        "df['limerick']=df['limerick'].apply(lambda x: add_chars(x))"
      ]
    },
    {
      "cell_type": "code",
      "execution_count": null,
      "metadata": {
        "colab": {
          "base_uri": "https://localhost:8080/",
          "height": 423
        },
        "id": "yBq9NkKh_Ytm",
        "outputId": "dd22eb20-49b0-4933-cd9b-920fbe128bb4"
      },
      "outputs": [
        {
          "data": {
            "text/html": [
              "\n",
              "  <div id=\"df-649ae534-9582-46fb-84a8-8c202213c99b\">\n",
              "    <div class=\"colab-df-container\">\n",
              "      <div>\n",
              "<style scoped>\n",
              "    .dataframe tbody tr th:only-of-type {\n",
              "        vertical-align: middle;\n",
              "    }\n",
              "\n",
              "    .dataframe tbody tr th {\n",
              "        vertical-align: top;\n",
              "    }\n",
              "\n",
              "    .dataframe thead th {\n",
              "        text-align: right;\n",
              "    }\n",
              "</style>\n",
              "<table border=\"1\" class=\"dataframe\">\n",
              "  <thead>\n",
              "    <tr style=\"text-align: right;\">\n",
              "      <th></th>\n",
              "      <th>limerick</th>\n",
              "    </tr>\n",
              "  </thead>\n",
              "  <tbody>\n",
              "    <tr>\n",
              "      <th>0</th>\n",
              "      <td>capn jack was washed over the side@\\nhis crew ...</td>\n",
              "    </tr>\n",
              "    <tr>\n",
              "      <th>1</th>\n",
              "      <td>as a soup bisque is best when served hot@\\nmad...</td>\n",
              "    </tr>\n",
              "    <tr>\n",
              "      <th>2</th>\n",
              "      <td>simply add to the grasp of a rhesus@\\nthe anti...</td>\n",
              "    </tr>\n",
              "    <tr>\n",
              "      <th>3</th>\n",
              "      <td>abeds where you sleep in the night@\\nunless yo...</td>\n",
              "    </tr>\n",
              "    <tr>\n",
              "      <th>4</th>\n",
              "      <td>a smiling young fellow from spain@\\nfell aslee...</td>\n",
              "    </tr>\n",
              "    <tr>\n",
              "      <th>...</th>\n",
              "      <td>...</td>\n",
              "    </tr>\n",
              "    <tr>\n",
              "      <th>88507</th>\n",
              "      <td>the storys in front of our noses@\\nin the bulr...</td>\n",
              "    </tr>\n",
              "    <tr>\n",
              "      <th>88508</th>\n",
              "      <td>understanding the bible is hard@\\ntake the cas...</td>\n",
              "    </tr>\n",
              "    <tr>\n",
              "      <th>88509</th>\n",
              "      <td>diverticula making you sick you@\\nmay need a r...</td>\n",
              "    </tr>\n",
              "    <tr>\n",
              "      <th>88510</th>\n",
              "      <td>un ballo in maschera what@\\nis the opera about...</td>\n",
              "    </tr>\n",
              "    <tr>\n",
              "      <th>88511</th>\n",
              "      <td>i said joe daddy thinks that youre drony@\\nand...</td>\n",
              "    </tr>\n",
              "  </tbody>\n",
              "</table>\n",
              "<p>82911 rows × 1 columns</p>\n",
              "</div>\n",
              "      <button class=\"colab-df-convert\" onclick=\"convertToInteractive('df-649ae534-9582-46fb-84a8-8c202213c99b')\"\n",
              "              title=\"Convert this dataframe to an interactive table.\"\n",
              "              style=\"display:none;\">\n",
              "        \n",
              "  <svg xmlns=\"http://www.w3.org/2000/svg\" height=\"24px\"viewBox=\"0 0 24 24\"\n",
              "       width=\"24px\">\n",
              "    <path d=\"M0 0h24v24H0V0z\" fill=\"none\"/>\n",
              "    <path d=\"M18.56 5.44l.94 2.06.94-2.06 2.06-.94-2.06-.94-.94-2.06-.94 2.06-2.06.94zm-11 1L8.5 8.5l.94-2.06 2.06-.94-2.06-.94L8.5 2.5l-.94 2.06-2.06.94zm10 10l.94 2.06.94-2.06 2.06-.94-2.06-.94-.94-2.06-.94 2.06-2.06.94z\"/><path d=\"M17.41 7.96l-1.37-1.37c-.4-.4-.92-.59-1.43-.59-.52 0-1.04.2-1.43.59L10.3 9.45l-7.72 7.72c-.78.78-.78 2.05 0 2.83L4 21.41c.39.39.9.59 1.41.59.51 0 1.02-.2 1.41-.59l7.78-7.78 2.81-2.81c.8-.78.8-2.07 0-2.86zM5.41 20L4 18.59l7.72-7.72 1.47 1.35L5.41 20z\"/>\n",
              "  </svg>\n",
              "      </button>\n",
              "      \n",
              "  <style>\n",
              "    .colab-df-container {\n",
              "      display:flex;\n",
              "      flex-wrap:wrap;\n",
              "      gap: 12px;\n",
              "    }\n",
              "\n",
              "    .colab-df-convert {\n",
              "      background-color: #E8F0FE;\n",
              "      border: none;\n",
              "      border-radius: 50%;\n",
              "      cursor: pointer;\n",
              "      display: none;\n",
              "      fill: #1967D2;\n",
              "      height: 32px;\n",
              "      padding: 0 0 0 0;\n",
              "      width: 32px;\n",
              "    }\n",
              "\n",
              "    .colab-df-convert:hover {\n",
              "      background-color: #E2EBFA;\n",
              "      box-shadow: 0px 1px 2px rgba(60, 64, 67, 0.3), 0px 1px 3px 1px rgba(60, 64, 67, 0.15);\n",
              "      fill: #174EA6;\n",
              "    }\n",
              "\n",
              "    [theme=dark] .colab-df-convert {\n",
              "      background-color: #3B4455;\n",
              "      fill: #D2E3FC;\n",
              "    }\n",
              "\n",
              "    [theme=dark] .colab-df-convert:hover {\n",
              "      background-color: #434B5C;\n",
              "      box-shadow: 0px 1px 3px 1px rgba(0, 0, 0, 0.15);\n",
              "      filter: drop-shadow(0px 1px 2px rgba(0, 0, 0, 0.3));\n",
              "      fill: #FFFFFF;\n",
              "    }\n",
              "  </style>\n",
              "\n",
              "      <script>\n",
              "        const buttonEl =\n",
              "          document.querySelector('#df-649ae534-9582-46fb-84a8-8c202213c99b button.colab-df-convert');\n",
              "        buttonEl.style.display =\n",
              "          google.colab.kernel.accessAllowed ? 'block' : 'none';\n",
              "\n",
              "        async function convertToInteractive(key) {\n",
              "          const element = document.querySelector('#df-649ae534-9582-46fb-84a8-8c202213c99b');\n",
              "          const dataTable =\n",
              "            await google.colab.kernel.invokeFunction('convertToInteractive',\n",
              "                                                     [key], {});\n",
              "          if (!dataTable) return;\n",
              "\n",
              "          const docLinkHtml = 'Like what you see? Visit the ' +\n",
              "            '<a target=\"_blank\" href=https://colab.research.google.com/notebooks/data_table.ipynb>data table notebook</a>'\n",
              "            + ' to learn more about interactive tables.';\n",
              "          element.innerHTML = '';\n",
              "          dataTable['output_type'] = 'display_data';\n",
              "          await google.colab.output.renderOutput(dataTable, element);\n",
              "          const docLink = document.createElement('div');\n",
              "          docLink.innerHTML = docLinkHtml;\n",
              "          element.appendChild(docLink);\n",
              "        }\n",
              "      </script>\n",
              "    </div>\n",
              "  </div>\n",
              "  "
            ],
            "text/plain": [
              "                                                limerick\n",
              "0      capn jack was washed over the side@\\nhis crew ...\n",
              "1      as a soup bisque is best when served hot@\\nmad...\n",
              "2      simply add to the grasp of a rhesus@\\nthe anti...\n",
              "3      abeds where you sleep in the night@\\nunless yo...\n",
              "4      a smiling young fellow from spain@\\nfell aslee...\n",
              "...                                                  ...\n",
              "88507  the storys in front of our noses@\\nin the bulr...\n",
              "88508  understanding the bible is hard@\\ntake the cas...\n",
              "88509  diverticula making you sick you@\\nmay need a r...\n",
              "88510  un ballo in maschera what@\\nis the opera about...\n",
              "88511  i said joe daddy thinks that youre drony@\\nand...\n",
              "\n",
              "[82911 rows x 1 columns]"
            ]
          },
          "execution_count": 22,
          "metadata": {},
          "output_type": "execute_result"
        }
      ],
      "source": [
        "df"
      ]
    },
    {
      "cell_type": "code",
      "execution_count": null,
      "metadata": {
        "id": "yh5Q4YYnBJS6"
      },
      "outputs": [],
      "source": [
        "df.to_csv('/content/limericks_clean_with_@and#.csv')"
      ]
    }
  ],
  "metadata": {
    "colab": {
      "collapsed_sections": [],
      "name": "Limerick Processing.ipynb",
      "provenance": []
    },
    "kernelspec": {
      "display_name": "Python 3",
      "name": "python3"
    },
    "language_info": {
      "name": "python"
    }
  },
  "nbformat": 4,
  "nbformat_minor": 0
}
