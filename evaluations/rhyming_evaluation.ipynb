{
  "nbformat": 4,
  "nbformat_minor": 0,
  "metadata": {
    "colab": {
      "name": "Rhyming Evaluation.ipynb",
      "provenance": [],
      "include_colab_link": true
    },
    "kernelspec": {
      "name": "python3",
      "display_name": "Python 3"
    },
    "language_info": {
      "name": "python"
    }
  },
  "cells": [
    {
      "cell_type": "markdown",
      "metadata": {
        "id": "view-in-github",
        "colab_type": "text"
      },
      "source": [
        "<a href=\"https://colab.research.google.com/github/YashashGaurav/poetai/blob/master/evaluations/rhyming_evaluation.ipynb\" target=\"_parent\"><img src=\"https://colab.research.google.com/assets/colab-badge.svg\" alt=\"Open In Colab\"/></a>"
      ]
    },
    {
      "cell_type": "markdown",
      "source": [
        "We have heavily relied on the metrics as proposed by @dexios1 - Chris Dare, @mfogelson - Mitchell Fogelson, @xinkaichen97 - Xinkai Chen, @T0ny8576 - Qifei Dong\n",
        "at\n",
        "https://github.com/mfogelson/11-785_project/blob/main/rhyming_evaluation.ipynb"
      ],
      "metadata": {
        "id": "I48arRVdamPa"
      }
    },
    {
      "cell_type": "markdown",
      "source": [
        "# Install libraries"
      ],
      "metadata": {
        "id": "aDgZx7WnZakd"
      }
    },
    {
      "cell_type": "code",
      "source": [
        "!pip install pronouncing -q"
      ],
      "metadata": {
        "colab": {
          "base_uri": "https://localhost:8080/"
        },
        "id": "ddkLvUNkkXXI",
        "outputId": "8239d084-c43e-4a4a-e557-0cf022339aa6"
      },
      "execution_count": null,
      "outputs": [
        {
          "output_type": "stream",
          "name": "stdout",
          "text": [
            "\u001b[?25l\r\u001b[K     |▍                               | 10 kB 15.4 MB/s eta 0:00:01\r\u001b[K     |▊                               | 20 kB 21.3 MB/s eta 0:00:01\r\u001b[K     |█                               | 30 kB 13.4 MB/s eta 0:00:01\r\u001b[K     |█▍                              | 40 kB 4.8 MB/s eta 0:00:01\r\u001b[K     |█▊                              | 51 kB 4.9 MB/s eta 0:00:01\r\u001b[K     |██                              | 61 kB 5.7 MB/s eta 0:00:01\r\u001b[K     |██▍                             | 71 kB 5.7 MB/s eta 0:00:01\r\u001b[K     |██▉                             | 81 kB 6.3 MB/s eta 0:00:01\r\u001b[K     |███▏                            | 92 kB 7.0 MB/s eta 0:00:01\r\u001b[K     |███▌                            | 102 kB 5.5 MB/s eta 0:00:01\r\u001b[K     |███▉                            | 112 kB 5.5 MB/s eta 0:00:01\r\u001b[K     |████▏                           | 122 kB 5.5 MB/s eta 0:00:01\r\u001b[K     |████▌                           | 133 kB 5.5 MB/s eta 0:00:01\r\u001b[K     |████▉                           | 143 kB 5.5 MB/s eta 0:00:01\r\u001b[K     |█████▎                          | 153 kB 5.5 MB/s eta 0:00:01\r\u001b[K     |█████▋                          | 163 kB 5.5 MB/s eta 0:00:01\r\u001b[K     |██████                          | 174 kB 5.5 MB/s eta 0:00:01\r\u001b[K     |██████▎                         | 184 kB 5.5 MB/s eta 0:00:01\r\u001b[K     |██████▋                         | 194 kB 5.5 MB/s eta 0:00:01\r\u001b[K     |███████                         | 204 kB 5.5 MB/s eta 0:00:01\r\u001b[K     |███████▎                        | 215 kB 5.5 MB/s eta 0:00:01\r\u001b[K     |███████▊                        | 225 kB 5.5 MB/s eta 0:00:01\r\u001b[K     |████████                        | 235 kB 5.5 MB/s eta 0:00:01\r\u001b[K     |████████▍                       | 245 kB 5.5 MB/s eta 0:00:01\r\u001b[K     |████████▊                       | 256 kB 5.5 MB/s eta 0:00:01\r\u001b[K     |█████████                       | 266 kB 5.5 MB/s eta 0:00:01\r\u001b[K     |█████████▍                      | 276 kB 5.5 MB/s eta 0:00:01\r\u001b[K     |█████████▊                      | 286 kB 5.5 MB/s eta 0:00:01\r\u001b[K     |██████████▏                     | 296 kB 5.5 MB/s eta 0:00:01\r\u001b[K     |██████████▌                     | 307 kB 5.5 MB/s eta 0:00:01\r\u001b[K     |██████████▉                     | 317 kB 5.5 MB/s eta 0:00:01\r\u001b[K     |███████████▏                    | 327 kB 5.5 MB/s eta 0:00:01\r\u001b[K     |███████████▌                    | 337 kB 5.5 MB/s eta 0:00:01\r\u001b[K     |███████████▉                    | 348 kB 5.5 MB/s eta 0:00:01\r\u001b[K     |████████████▏                   | 358 kB 5.5 MB/s eta 0:00:01\r\u001b[K     |████████████▌                   | 368 kB 5.5 MB/s eta 0:00:01\r\u001b[K     |█████████████                   | 378 kB 5.5 MB/s eta 0:00:01\r\u001b[K     |█████████████▎                  | 389 kB 5.5 MB/s eta 0:00:01\r\u001b[K     |█████████████▋                  | 399 kB 5.5 MB/s eta 0:00:01\r\u001b[K     |██████████████                  | 409 kB 5.5 MB/s eta 0:00:01\r\u001b[K     |██████████████▎                 | 419 kB 5.5 MB/s eta 0:00:01\r\u001b[K     |██████████████▋                 | 430 kB 5.5 MB/s eta 0:00:01\r\u001b[K     |███████████████                 | 440 kB 5.5 MB/s eta 0:00:01\r\u001b[K     |███████████████▍                | 450 kB 5.5 MB/s eta 0:00:01\r\u001b[K     |███████████████▊                | 460 kB 5.5 MB/s eta 0:00:01\r\u001b[K     |████████████████                | 471 kB 5.5 MB/s eta 0:00:01\r\u001b[K     |████████████████▍               | 481 kB 5.5 MB/s eta 0:00:01\r\u001b[K     |████████████████▊               | 491 kB 5.5 MB/s eta 0:00:01\r\u001b[K     |█████████████████               | 501 kB 5.5 MB/s eta 0:00:01\r\u001b[K     |█████████████████▍              | 512 kB 5.5 MB/s eta 0:00:01\r\u001b[K     |█████████████████▉              | 522 kB 5.5 MB/s eta 0:00:01\r\u001b[K     |██████████████████▏             | 532 kB 5.5 MB/s eta 0:00:01\r\u001b[K     |██████████████████▌             | 542 kB 5.5 MB/s eta 0:00:01\r\u001b[K     |██████████████████▉             | 552 kB 5.5 MB/s eta 0:00:01\r\u001b[K     |███████████████████▏            | 563 kB 5.5 MB/s eta 0:00:01\r\u001b[K     |███████████████████▌            | 573 kB 5.5 MB/s eta 0:00:01\r\u001b[K     |███████████████████▉            | 583 kB 5.5 MB/s eta 0:00:01\r\u001b[K     |████████████████████▎           | 593 kB 5.5 MB/s eta 0:00:01\r\u001b[K     |████████████████████▋           | 604 kB 5.5 MB/s eta 0:00:01\r\u001b[K     |█████████████████████           | 614 kB 5.5 MB/s eta 0:00:01\r\u001b[K     |█████████████████████▎          | 624 kB 5.5 MB/s eta 0:00:01\r\u001b[K     |█████████████████████▋          | 634 kB 5.5 MB/s eta 0:00:01\r\u001b[K     |██████████████████████          | 645 kB 5.5 MB/s eta 0:00:01\r\u001b[K     |██████████████████████▎         | 655 kB 5.5 MB/s eta 0:00:01\r\u001b[K     |██████████████████████▋         | 665 kB 5.5 MB/s eta 0:00:01\r\u001b[K     |███████████████████████         | 675 kB 5.5 MB/s eta 0:00:01\r\u001b[K     |███████████████████████▍        | 686 kB 5.5 MB/s eta 0:00:01\r\u001b[K     |███████████████████████▊        | 696 kB 5.5 MB/s eta 0:00:01\r\u001b[K     |████████████████████████        | 706 kB 5.5 MB/s eta 0:00:01\r\u001b[K     |████████████████████████▍       | 716 kB 5.5 MB/s eta 0:00:01\r\u001b[K     |████████████████████████▊       | 727 kB 5.5 MB/s eta 0:00:01\r\u001b[K     |█████████████████████████       | 737 kB 5.5 MB/s eta 0:00:01\r\u001b[K     |█████████████████████████▌      | 747 kB 5.5 MB/s eta 0:00:01\r\u001b[K     |█████████████████████████▉      | 757 kB 5.5 MB/s eta 0:00:01\r\u001b[K     |██████████████████████████▏     | 768 kB 5.5 MB/s eta 0:00:01\r\u001b[K     |██████████████████████████▌     | 778 kB 5.5 MB/s eta 0:00:01\r\u001b[K     |██████████████████████████▉     | 788 kB 5.5 MB/s eta 0:00:01\r\u001b[K     |███████████████████████████▏    | 798 kB 5.5 MB/s eta 0:00:01\r\u001b[K     |███████████████████████████▌    | 808 kB 5.5 MB/s eta 0:00:01\r\u001b[K     |████████████████████████████    | 819 kB 5.5 MB/s eta 0:00:01\r\u001b[K     |████████████████████████████▎   | 829 kB 5.5 MB/s eta 0:00:01\r\u001b[K     |████████████████████████████▋   | 839 kB 5.5 MB/s eta 0:00:01\r\u001b[K     |█████████████████████████████   | 849 kB 5.5 MB/s eta 0:00:01\r\u001b[K     |█████████████████████████████▎  | 860 kB 5.5 MB/s eta 0:00:01\r\u001b[K     |█████████████████████████████▋  | 870 kB 5.5 MB/s eta 0:00:01\r\u001b[K     |██████████████████████████████  | 880 kB 5.5 MB/s eta 0:00:01\r\u001b[K     |██████████████████████████████▍ | 890 kB 5.5 MB/s eta 0:00:01\r\u001b[K     |██████████████████████████████▊ | 901 kB 5.5 MB/s eta 0:00:01\r\u001b[K     |███████████████████████████████ | 911 kB 5.5 MB/s eta 0:00:01\r\u001b[K     |███████████████████████████████▍| 921 kB 5.5 MB/s eta 0:00:01\r\u001b[K     |███████████████████████████████▊| 931 kB 5.5 MB/s eta 0:00:01\r\u001b[K     |████████████████████████████████| 939 kB 5.5 MB/s \n",
            "\u001b[?25h  Building wheel for pronouncing (setup.py) ... \u001b[?25l\u001b[?25hdone\n"
          ]
        }
      ]
    },
    {
      "cell_type": "markdown",
      "source": [
        "# Load dependencies"
      ],
      "metadata": {
        "id": "Qa4Nb7tEZe3d"
      }
    },
    {
      "cell_type": "code",
      "source": [
        "import re\n",
        "from pathlib import Path\n",
        "from typing import List, Union\n",
        "\n",
        "import numpy as np\n",
        "import pronouncing\n",
        "import pandas as pd"
      ],
      "metadata": {
        "id": "Bq7keYW9kQcL"
      },
      "execution_count": null,
      "outputs": []
    },
    {
      "cell_type": "markdown",
      "source": [
        "# Load dataset"
      ],
      "metadata": {
        "id": "dYbAGDwjZiSe"
      }
    },
    {
      "cell_type": "code",
      "source": [
        "lims = pd.read_csv('limericks_no_punc_digit.csv', header = None)\n",
        "lims.head()"
      ],
      "metadata": {
        "colab": {
          "base_uri": "https://localhost:8080/",
          "height": 206
        },
        "id": "5_cJ5y47kxLf",
        "outputId": "c54abacb-64b2-4d97-c708-c2af35d3e7d0"
      },
      "execution_count": null,
      "outputs": [
        {
          "output_type": "execute_result",
          "data": {
            "text/plain": [
              "                                                   0\n",
              "0  capn jack was washed over the side\\nhis crew s...\n",
              "1  as a soup bisque is best when served hot\\nmade...\n",
              "2  simply add to the grasp of a rhesus\\nthe antit...\n",
              "3  abeds where you sleep in the night\\nunless you...\n",
              "4  a smiling young fellow from spain\\nfell asleep..."
            ],
            "text/html": [
              "\n",
              "  <div id=\"df-c9d2489e-3bad-4863-9508-1e4103d14637\">\n",
              "    <div class=\"colab-df-container\">\n",
              "      <div>\n",
              "<style scoped>\n",
              "    .dataframe tbody tr th:only-of-type {\n",
              "        vertical-align: middle;\n",
              "    }\n",
              "\n",
              "    .dataframe tbody tr th {\n",
              "        vertical-align: top;\n",
              "    }\n",
              "\n",
              "    .dataframe thead th {\n",
              "        text-align: right;\n",
              "    }\n",
              "</style>\n",
              "<table border=\"1\" class=\"dataframe\">\n",
              "  <thead>\n",
              "    <tr style=\"text-align: right;\">\n",
              "      <th></th>\n",
              "      <th>0</th>\n",
              "    </tr>\n",
              "  </thead>\n",
              "  <tbody>\n",
              "    <tr>\n",
              "      <th>0</th>\n",
              "      <td>capn jack was washed over the side\\nhis crew s...</td>\n",
              "    </tr>\n",
              "    <tr>\n",
              "      <th>1</th>\n",
              "      <td>as a soup bisque is best when served hot\\nmade...</td>\n",
              "    </tr>\n",
              "    <tr>\n",
              "      <th>2</th>\n",
              "      <td>simply add to the grasp of a rhesus\\nthe antit...</td>\n",
              "    </tr>\n",
              "    <tr>\n",
              "      <th>3</th>\n",
              "      <td>abeds where you sleep in the night\\nunless you...</td>\n",
              "    </tr>\n",
              "    <tr>\n",
              "      <th>4</th>\n",
              "      <td>a smiling young fellow from spain\\nfell asleep...</td>\n",
              "    </tr>\n",
              "  </tbody>\n",
              "</table>\n",
              "</div>\n",
              "      <button class=\"colab-df-convert\" onclick=\"convertToInteractive('df-c9d2489e-3bad-4863-9508-1e4103d14637')\"\n",
              "              title=\"Convert this dataframe to an interactive table.\"\n",
              "              style=\"display:none;\">\n",
              "        \n",
              "  <svg xmlns=\"http://www.w3.org/2000/svg\" height=\"24px\"viewBox=\"0 0 24 24\"\n",
              "       width=\"24px\">\n",
              "    <path d=\"M0 0h24v24H0V0z\" fill=\"none\"/>\n",
              "    <path d=\"M18.56 5.44l.94 2.06.94-2.06 2.06-.94-2.06-.94-.94-2.06-.94 2.06-2.06.94zm-11 1L8.5 8.5l.94-2.06 2.06-.94-2.06-.94L8.5 2.5l-.94 2.06-2.06.94zm10 10l.94 2.06.94-2.06 2.06-.94-2.06-.94-.94-2.06-.94 2.06-2.06.94z\"/><path d=\"M17.41 7.96l-1.37-1.37c-.4-.4-.92-.59-1.43-.59-.52 0-1.04.2-1.43.59L10.3 9.45l-7.72 7.72c-.78.78-.78 2.05 0 2.83L4 21.41c.39.39.9.59 1.41.59.51 0 1.02-.2 1.41-.59l7.78-7.78 2.81-2.81c.8-.78.8-2.07 0-2.86zM5.41 20L4 18.59l7.72-7.72 1.47 1.35L5.41 20z\"/>\n",
              "  </svg>\n",
              "      </button>\n",
              "      \n",
              "  <style>\n",
              "    .colab-df-container {\n",
              "      display:flex;\n",
              "      flex-wrap:wrap;\n",
              "      gap: 12px;\n",
              "    }\n",
              "\n",
              "    .colab-df-convert {\n",
              "      background-color: #E8F0FE;\n",
              "      border: none;\n",
              "      border-radius: 50%;\n",
              "      cursor: pointer;\n",
              "      display: none;\n",
              "      fill: #1967D2;\n",
              "      height: 32px;\n",
              "      padding: 0 0 0 0;\n",
              "      width: 32px;\n",
              "    }\n",
              "\n",
              "    .colab-df-convert:hover {\n",
              "      background-color: #E2EBFA;\n",
              "      box-shadow: 0px 1px 2px rgba(60, 64, 67, 0.3), 0px 1px 3px 1px rgba(60, 64, 67, 0.15);\n",
              "      fill: #174EA6;\n",
              "    }\n",
              "\n",
              "    [theme=dark] .colab-df-convert {\n",
              "      background-color: #3B4455;\n",
              "      fill: #D2E3FC;\n",
              "    }\n",
              "\n",
              "    [theme=dark] .colab-df-convert:hover {\n",
              "      background-color: #434B5C;\n",
              "      box-shadow: 0px 1px 3px 1px rgba(0, 0, 0, 0.15);\n",
              "      filter: drop-shadow(0px 1px 2px rgba(0, 0, 0, 0.3));\n",
              "      fill: #FFFFFF;\n",
              "    }\n",
              "  </style>\n",
              "\n",
              "      <script>\n",
              "        const buttonEl =\n",
              "          document.querySelector('#df-c9d2489e-3bad-4863-9508-1e4103d14637 button.colab-df-convert');\n",
              "        buttonEl.style.display =\n",
              "          google.colab.kernel.accessAllowed ? 'block' : 'none';\n",
              "\n",
              "        async function convertToInteractive(key) {\n",
              "          const element = document.querySelector('#df-c9d2489e-3bad-4863-9508-1e4103d14637');\n",
              "          const dataTable =\n",
              "            await google.colab.kernel.invokeFunction('convertToInteractive',\n",
              "                                                     [key], {});\n",
              "          if (!dataTable) return;\n",
              "\n",
              "          const docLinkHtml = 'Like what you see? Visit the ' +\n",
              "            '<a target=\"_blank\" href=https://colab.research.google.com/notebooks/data_table.ipynb>data table notebook</a>'\n",
              "            + ' to learn more about interactive tables.';\n",
              "          element.innerHTML = '';\n",
              "          dataTable['output_type'] = 'display_data';\n",
              "          await google.colab.output.renderOutput(dataTable, element);\n",
              "          const docLink = document.createElement('div');\n",
              "          docLink.innerHTML = docLinkHtml;\n",
              "          element.appendChild(docLink);\n",
              "        }\n",
              "      </script>\n",
              "    </div>\n",
              "  </div>\n",
              "  "
            ]
          },
          "metadata": {},
          "execution_count": 16
        }
      ]
    },
    {
      "cell_type": "markdown",
      "source": [
        "## Codebase"
      ],
      "metadata": {
        "id": "0PLJdjFnbCrK"
      }
    },
    {
      "cell_type": "code",
      "execution_count": null,
      "metadata": {
        "id": "LqWeCOcXhnvq"
      },
      "outputs": [],
      "source": [
        "class Limerick:\n",
        "    \n",
        "    def __init__(self, lines: str, rhyme_patterns: list, max_length:int=None):\n",
        "        self.verse_lines = lines\n",
        "        if max_length:\n",
        "            self.verse_lines = self.verse_lines[0:max_length]\n",
        "        self.last_words = [line.split()[-1] for line in self.verse_lines]\n",
        "        self.last_word_rhyming_part_pairs = {word:self.__get_rhyming_parts(word) for word in self.last_words}\n",
        "        self.rhyme_patterns = rhyme_patterns\n",
        " \n",
        "    def __get_phonemes(self, text):\n",
        "        \"\"\"returns all possible pronunciation of a word as phonemes\n",
        "        Language used: American English. Style: Arpabet\n",
        "        \"\"\"\n",
        "        if type(text) == str:\n",
        "            phonemes = pronouncing.phones_for_word(text)\n",
        "        else:\n",
        "            phonemes = [pronouncing.phones_for_word(word) for word in text]\n",
        "        return phonemes\n",
        "    \n",
        "    def __get_rhyming_parts(self, word:str):\n",
        "        phonemes = self.__get_phonemes(word)\n",
        "        rhyming_parts = [pronouncing.rhyming_part(phoneme) for phoneme in phonemes]\n",
        "        return rhyming_parts\n",
        "    \n",
        "    \n",
        "    def __get_valid_rhyme_patterns(self):\n",
        "        valid_patterns = [pattern for pattern in self.rhyme_patterns if \n",
        "            not any(i > len(self.verse_lines)-1 for i in pattern)\n",
        "        ]\n",
        "        return valid_patterns\n",
        "\n",
        "    def score(self, line_pair):\n",
        "        first_word = self.last_words[line_pair[0]]\n",
        "        second_word = self.last_words[line_pair[1]]\n",
        "        first_word_rhymes = self.__get_rhyming_parts(first_word) \n",
        "        second_word_rhymes = self.__get_rhyming_parts(second_word)\n",
        "        rhyme_score = 0\n",
        "        for first_word_rhyme in first_word_rhymes:\n",
        "            for second_word_rhyme in second_word_rhymes:\n",
        "                is_rhyming = first_word_rhyme == second_word_rhyme\n",
        "                if (is_rhyming):\n",
        "                    rhyme_score = 1\n",
        "                    status = \"successfully matched\"\n",
        "                else:\n",
        "                    status = \"could not match\"\n",
        "                # uncomment to debug\n",
        "                print(f\" {status} -> {first_word}({first_word_rhyme}) and {second_word}({second_word_rhyme})\")\n",
        "        return int(rhyme_score)\n",
        "    \n",
        "    \n",
        "    def score_edit_distance(self, line_pair):\n",
        "        first_word = self.last_words[line_pair[0]]\n",
        "        second_word = self.last_words[line_pair[1]]\n",
        "        first_word_rhymes = self.__get_rhyming_parts(first_word) \n",
        "        second_word_rhymes = self.__get_rhyming_parts(second_word)\n",
        "        rhyme_scores = []\n",
        "#         import pdb; pdb.set_trace()\n",
        "        for first_word_rhyme in first_word_rhymes:\n",
        "            for second_word_rhyme in second_word_rhymes:\n",
        "                distance = calculate_edit_distance(first_word_rhyme,second_word_rhyme)\n",
        "                rhyme_scores.append(distance)\n",
        "        # there's a possibility that rhyme_scores will be an empty list.\n",
        "        # this will be if no rhyming parts for a given set of words is found.\n",
        "        # in that case, return None\n",
        "        if len(rhyme_scores) > 0:\n",
        "            rhyme_score =  min(rhyme_scores)\n",
        "        else:\n",
        "            rhyme_score = None\n",
        "        return rhyme_score\n",
        "    \n",
        "        \n",
        "    def get_rhyme_score(self):\n",
        "        \"\"\"returns a rhyming score for the poem between 0 and 1.\n",
        "        \"\"\"\n",
        "        valid_patterns = self.__get_valid_rhyme_patterns()\n",
        "        scores = [self.score(pattern) for pattern in valid_patterns]\n",
        "        return sum(scores)/len(scores)\n",
        "\n",
        "    def __repr__(self):\n",
        "        return repr(\"\\n\".join(self.verse_lines))"
      ]
    },
    {
      "cell_type": "code",
      "source": [
        "def test_scoring_limerick(limerick_lines):\n",
        "    \"\"\"Sanity check to test scoring of a single limerick\n",
        "    \"\"\"\n",
        "    limerick = Limerick(lines=limerick_lines, rhyme_patterns=limerick_pattern, max_length=5)\n",
        "    print(\"Scoring limerick...\")\n",
        "    score = limerick.get_rhyme_score()\n",
        "    print(f\"Rhyme score is {score}\")\n",
        "    return score"
      ],
      "metadata": {
        "id": "J6xwrgQOiyYQ"
      },
      "execution_count": null,
      "outputs": []
    },
    {
      "cell_type": "markdown",
      "source": [
        "Testing"
      ],
      "metadata": {
        "id": "PVN4-VqMi7-s"
      }
    },
    {
      "cell_type": "code",
      "source": [
        "test = str(lims.iloc[1][0]).split('\\n')[:-1]\n",
        "test"
      ],
      "metadata": {
        "colab": {
          "base_uri": "https://localhost:8080/"
        },
        "id": "qxKh6y5CmbSI",
        "outputId": "d723647a-5ec0-4c85-ddd9-edb05fbf73dd"
      },
      "execution_count": null,
      "outputs": [
        {
          "output_type": "execute_result",
          "data": {
            "text/plain": [
              "['as a soup bisque is best when served hot',\n",
              " 'made with lobster it hits the right spot',\n",
              " 'i think it tastes dreamy',\n",
              " 'its so rich and creamy',\n",
              " 'its the soup youd be served on a yacht']"
            ]
          },
          "metadata": {},
          "execution_count": 28
        }
      ]
    },
    {
      "cell_type": "code",
      "source": [
        "test2 = ['when asked for some detail  its clear',\n",
        " 'its the claim they must be clear', \n",
        " 'that this date is too long', \n",
        " 'but i cant understand why', \n",
        " 'so i tried my best not have you see']"
      ],
      "metadata": {
        "id": "jhRecPlqogU4"
      },
      "execution_count": null,
      "outputs": []
    },
    {
      "cell_type": "code",
      "source": [
        "# sample_rhyme = Path(\"samples/sample_rhyme.txt\")\n",
        "limerick_pattern = [\n",
        "    [0,1], [2,3], [0,4]\n",
        "]\n",
        "test_scoring_limerick(test2)"
      ],
      "metadata": {
        "colab": {
          "base_uri": "https://localhost:8080/"
        },
        "id": "4_MgZyDWi-mq",
        "outputId": "5e3bcb71-baf7-458b-c5e6-ebe432320b05"
      },
      "execution_count": null,
      "outputs": [
        {
          "output_type": "stream",
          "name": "stdout",
          "text": [
            "Scoring limerick...\n",
            " successfully matched -> clear(IH1 R) and clear(IH1 R)\n",
            " could not match -> long(AO1 NG) and why(AY1)\n",
            " could not match -> long(AO1 NG) and why(AY1)\n",
            " could not match -> clear(IH1 R) and see(IY1)\n",
            "Rhyme score is 0.3333333333333333\n"
          ]
        },
        {
          "output_type": "execute_result",
          "data": {
            "text/plain": [
              "0.3333333333333333"
            ]
          },
          "metadata": {},
          "execution_count": 148
        }
      ]
    },
    {
      "cell_type": "code",
      "source": [
        "def convert_generated_text_to_list(path):\n",
        "  pattern = r'-- [A-Za-z]+ [0-9]+ --'\n",
        "  with open(path) as file:\n",
        "      text = file.read()\n",
        "  limmericks = re.split(pattern, text)\n",
        "  limmericks = [re.split(r'[0-9]: ', l) for l in limmericks]\n",
        "  limmericks = [l for l in limmericks if l != ' ' or l != '']\n",
        "  limmericks5 = []\n",
        "  for i in limmericks:\n",
        "    if len(i) >= 5:\n",
        "      limmericks5.append(i[1:])\n",
        "  return limmericks5"
      ],
      "metadata": {
        "id": "2045oT3rtN20"
      },
      "execution_count": null,
      "outputs": []
    },
    {
      "cell_type": "code",
      "source": [
        "limmericks = convert_generated_text_to_list('generation_log.txt')"
      ],
      "metadata": {
        "id": "5EiYUt0B4p3_"
      },
      "execution_count": null,
      "outputs": []
    },
    {
      "cell_type": "code",
      "source": [
        "rhyme_scores = []\n",
        "for l in limmericks:\n",
        "  try:\n",
        "    rhyme_scores.append(test_scoring_limerick(l))\n",
        "  except:\n",
        "    print('Not a valid limmerick')"
      ],
      "metadata": {
        "id": "f15HGRD25Lnt"
      },
      "execution_count": null,
      "outputs": []
    },
    {
      "cell_type": "code",
      "source": [
        "print(rhyme_scores)"
      ],
      "metadata": {
        "id": "xyq1i96gKkE8"
      },
      "execution_count": null,
      "outputs": []
    },
    {
      "cell_type": "code",
      "source": [
        "rhyming_lims = [i for i in rhyme_scores if i > 0]\n",
        "print(len(rhyming_lims))"
      ],
      "metadata": {
        "colab": {
          "base_uri": "https://localhost:8080/"
        },
        "id": "gwc4WhFMLMP-",
        "outputId": "9dff1a84-3eb6-46fb-fffe-c8873a208ae1"
      },
      "execution_count": null,
      "outputs": [
        {
          "output_type": "stream",
          "name": "stdout",
          "text": [
            "6\n"
          ]
        }
      ]
    },
    {
      "cell_type": "markdown",
      "source": [
        "## Random"
      ],
      "metadata": {
        "id": "g-BMU-94LMrH"
      }
    },
    {
      "cell_type": "code",
      "source": [
        "def sigmoid(X):\n",
        "   return 1/(1+np.exp(-X))"
      ],
      "metadata": {
        "id": "EpVoKR_gjDwn"
      },
      "execution_count": null,
      "outputs": []
    },
    {
      "cell_type": "code",
      "source": [
        "def calculate_edit_distance(phoneme_set_a: List[str], phoneme_set_b: List[str], levenshtein=True):\n",
        "    \"\"\"Calculates edit distance between 2 sets of phonemes\n",
        "    \n",
        "    Parameters\n",
        "    ----------\n",
        "    phoneme_set_a: list\n",
        "        word or rhyming part to be compared to. \n",
        "        This is represented as a string or list of phonemes representing a word or its rhyming part.\n",
        "    phoneme_set_a: list\n",
        "        word or rhyming part for which we want compute how different it is from phoneme_set_a\n",
        "        This is also represented as a string or a list of phonemes representing a word or its rhyming part.\n",
        "    levenshtein: bool, default = True\n",
        "        Boolean indicating whether the distance should be conputed as Levenshtein distance or not\n",
        "        \n",
        "    Examples\n",
        "    --------\n",
        "    wonder = [\"AH1\",\"N\",\"D\",\"ER0\"]\n",
        "    one = [\"AH1\",\"N\"]\n",
        "    \n",
        "    difference = calculate_edit_distance(wonder, one, levenshtein=False)\n",
        "    \n",
        "    This can be updated with a faster, dynamic program approach\n",
        "    \"\"\"\n",
        "#     aligned_phoneme_set_a = []\n",
        "    substitution_cost = 0\n",
        "    insertion_cost = 0\n",
        "    deletion_cost = 0\n",
        "    aligned_phoneme_set_b = list(phoneme_set_b)\n",
        "    \n",
        "    index_counter = 0\n",
        "    while index_counter < len(phoneme_set_b) - 1:\n",
        "#         if phoneme_set_a[index_counter] == aligned_phoneme_set_b[index_counter]:\n",
        "#             continue\n",
        "            # aligned_phoneme_set_b[index_counter] = phoneme_set_b[index_counter]\n",
        "        if index_counter > 0:\n",
        "            if phoneme_set_a[index_counter-1] == aligned_phoneme_set_b[index_counter]:\n",
        "                aligned_phoneme_set_b.insert(index_counter, None)\n",
        "        # else, skip. it requires a substitution\n",
        "        index_counter = index_counter + 1\n",
        "    \n",
        "    deletion_cost = abs(len(phoneme_set_a) - len(aligned_phoneme_set_b))\n",
        "    aligned_phoneme_set_b = aligned_phoneme_set_b[-len(phoneme_set_a):]\n",
        "\n",
        "#     index_counter = len(aligned_phoneme_set_b) - 1\n",
        "    for i in range(len(aligned_phoneme_set_b)):\n",
        "        if aligned_phoneme_set_b[i] == None:\n",
        "            insertion_cost = insertion_cost + 1\n",
        "        elif phoneme_set_a[i] != aligned_phoneme_set_b[i]:\n",
        "            substitution_cost = substitution_cost + 1\n",
        "        # else, continue\n",
        "    \n",
        "    # compute total costs\n",
        "    if levenshtein:\n",
        "        substitution_cost = substitution_cost * 2\n",
        "        \n",
        "    print(f\"aligned_phoneme_set_b: {aligned_phoneme_set_b}\")\n",
        "        \n",
        "    print(f\"deletion cost: {deletion_cost}\")\n",
        "    print(f\"insertion cost: {insertion_cost}\")\n",
        "    print(f\"substitution cost: {substitution_cost}\")\n",
        "    \n",
        "    total_cost = deletion_cost + insertion_cost + substitution_cost\n",
        "    \n",
        "    return total_cost"
      ],
      "metadata": {
        "id": "8uypSMqpjLOS"
      },
      "execution_count": null,
      "outputs": []
    },
    {
      "cell_type": "code",
      "source": [
        "difference = calculate_edit_distance(\"execution\", \"intention\")\n",
        "difference"
      ],
      "metadata": {
        "id": "j4Go9iTIjXbQ"
      },
      "execution_count": null,
      "outputs": []
    }
  ]
}